{
 "cells": [
  {
   "cell_type": "code",
   "execution_count": 1,
   "id": "a0f1329a-0aee-447d-936e-d02a94d7d0e3",
   "metadata": {},
   "outputs": [],
   "source": [
    "import pyttsx3 as pt\n",
    "import speech_recognition as sr\n",
    "import requests\n",
    "import time as time\n",
    "from datetime import datetime, timedelta"
   ]
  },
  {
   "cell_type": "code",
   "execution_count": 2,
   "id": "81aebae8-9f3c-4ab6-aad2-d0a5af8049f3",
   "metadata": {},
   "outputs": [],
   "source": [
    "# Common responses\n",
    "# -------------------------------------------------------------------------------------------------------------------------------\n",
    "\n",
    "\n",
    "\n",
    "\n",
    "\n",
    "\n",
    "\n",
    "\n",
    "\n",
    "\n",
    "\n"
   ]
  },
  {
   "cell_type": "code",
   "execution_count": 3,
   "id": "aeea4c30-9158-4d1e-a02c-6fd7f6db8d12",
   "metadata": {},
   "outputs": [],
   "source": [
    "# Speak function initialization\n",
    "def speak(text, voice_id):\n",
    "    engine = pt.init()\n",
    "    engine.setProperty('voice', voice_id)\n",
    "    engine.say(text)\n",
    "    engine.runAndWait()"
   ]
  },
  {
   "cell_type": "code",
   "execution_count": 4,
   "id": "3fbeaaaf-1f88-4d05-bc96-c65d4e9c4a1f",
   "metadata": {},
   "outputs": [],
   "source": [
    "# pause function\n",
    "import time\n",
    "def delay(seconds):\n",
    "    time.sleep(seconds)"
   ]
  },
  {
   "cell_type": "code",
   "execution_count": 5,
   "id": "dc0c3fcd-f382-42ed-9634-8bc0eb637deb",
   "metadata": {},
   "outputs": [],
   "source": [
    "# Voice Functions\n",
    "\n",
    "def get_voice_id(gender):\n",
    "    engine = pt.init()\n",
    "    voices = engine.getProperty('voices')\n",
    "    \n",
    "    # print(\"Available voices:\")\n",
    "    # for voice in voices:\n",
    "    #     print(f\"ID: {voice.id}, Name: {voice.name}\")\n",
    "    \n",
    "    for voice in voices:\n",
    "        if gender == 'male' and 'david' in voice.name.lower():\n",
    "            return voice.id\n",
    "        elif gender == 'female' and 'zira' in voice.name.lower():\n",
    "            return voice.id\n",
    "    return None\n",
    "    "
   ]
  },
  {
   "cell_type": "code",
   "execution_count": 6,
   "id": "b2ade4c4-364b-4413-b4c9-b347c8e01ef0",
   "metadata": {},
   "outputs": [],
   "source": [
    "# Setting up Voice 'Male/Female'\n",
    "\n",
    "responseVoiceSelection = input(\"Select voice: Enter 1 for male or 2 for female: \")\n",
    "\n",
    "if responseVoiceSelection == '1':\n",
    "    voice_id = get_voice_id('male')\n",
    "    if voice_id:\n",
    "        speak(\"You have selected the male voice.\", voice_id)\n",
    "    else:\n",
    "        print(\"Male voice not found.\")\n",
    "elif responseVoiceSelection == '2':\n",
    "    voice_id = get_voice_id('female')\n",
    "    if voice_id:\n",
    "        speak(\"You have selected the female voice.\", voice_id)\n",
    "    else:\n",
    "        print(\"Female voice not found.\")\n",
    "else:\n",
    "    print(\"Invalid selection. Please enter 1 or 2.\")"
   ]
  },
  {
   "cell_type": "code",
   "execution_count": 7,
   "id": "2cced125-8da3-40db-a38e-1868fbd1ce61",
   "metadata": {},
   "outputs": [],
   "source": [
    "def speak(something):\n",
    "    engine = pt.init()\n",
    "    engine.setProperty('voice', voice_id)\n",
    "    engine.say(something)\n",
    "    engine.runAndWait()"
   ]
  },
  {
   "cell_type": "code",
   "execution_count": 8,
   "id": "ae51d3cb-cc82-41db-ada4-48486bd2364a",
   "metadata": {},
   "outputs": [],
   "source": [
    "# set up\n",
    "speak(f\"Hello Sir\")\n",
    "speak(\"This is the setup of my program\")\n",
    "delay(2)\n",
    "speak(\"You must answer everything correctly in order to finish setup\")\n",
    "speak(\"So, let us get started\")"
   ]
  },
  {
   "cell_type": "code",
   "execution_count": 9,
   "id": "278047e4-de64-4c17-9014-e5e29b57bea7",
   "metadata": {},
   "outputs": [],
   "source": [
    "# Setting up Speech Recognition\n",
    "def listen():\n",
    "    recognizer = sr.Recognizer()\n",
    "    with sr.Microphone() as source:\n",
    "        print(\"Listening...\")\n",
    "        recognizer.adjust_for_ambient_noise(source)\n",
    "        audio = recognizer.listen(source)\n",
    "\n",
    "    try:\n",
    "        print(\"Recognizing...\")\n",
    "        query = recognizer.recognize_sphinx(audio)\n",
    "        print(f\"You said: {query}\")\n",
    "        return query\n",
    "    except sr.UnknownValueError:\n",
    "        speak(\"Sorry, I didn't get that.\")\n",
    "        return \"\"\n",
    "    except sr.RequestError:\n",
    "        speak(\"Sorry, I'm having trouble accessing your request\")\n",
    "        return \"\"\n"
   ]
  },
  {
   "cell_type": "code",
   "execution_count": 10,
   "id": "05ac0f8f-52ad-42ad-a732-8823629bf66d",
   "metadata": {
    "scrolled": true
   },
   "outputs": [
    {
     "name": "stdout",
     "output_type": "stream",
     "text": [
      "Enter your name: \n",
      "For eg: 'sir', 'bro', or anything of your choice...\n",
      "I would be calling you Steve Sir from now on...\n"
     ]
    }
   ],
   "source": [
    "# Setting up username\n",
    "\n",
    "nameList = []\n",
    "\n",
    "\n",
    "\n",
    "speak(\"Please tell your name\")\n",
    "print(\"Enter your name: \")\n",
    "userName = input()\n",
    "responseName = f\"{userName}, seems a nice name.\"\n",
    "speak(responseName)\n",
    "\n",
    "speak(\"How would you like me to call you?\")\n",
    "print(\"For eg: 'sir', 'bro', or anything of your choice...\")\n",
    "userCall = input()\n",
    "\n",
    "speak(f\"Great {userName}{userCall}\")\n",
    "print(f\"I would be calling you {userName} {userCall} from now on...\")"
   ]
  },
  {
   "cell_type": "code",
   "execution_count": 11,
   "id": "c889b32c-fdde-49f4-b7d6-86c5609e096e",
   "metadata": {},
   "outputs": [],
   "source": [
    "# News Functions\n",
    "\n",
    "def get_news(topic):\n",
    "    api_key = '361c686e684a4b4395024882ff62a898'\n",
    "    url = f'https://newsapi.org/v2/everything?q={topic}&apiKey={api_key}'\n",
    "    response = requests.get(url)\n",
    "    if response.status_code == 200:  # Ensure the request was successful\n",
    "        news_data = response.json()\n",
    "        if 'articles' in news_data:\n",
    "            return news_data['articles']\n",
    "        else:\n",
    "            print(\"No articles found in the response.\")\n",
    "            return []\n",
    "    else:\n",
    "        print(f\"Failed to fetch news. Status code: {response.status_code}\")\n",
    "        return []\n",
    "\n",
    "def read_news(articles):\n",
    "    for i, article in enumerate(articles[:5], 1):  # limiting to first 5 articles\n",
    "        news_text = f\"News {i}: {article['title']}. {article['description']}\"\n",
    "        print(news_text)\n",
    "        speak(news_text)\n",
    "        \n"
   ]
  },
  {
   "cell_type": "code",
   "execution_count": 11,
   "id": "6fc37f59-8303-4ac8-98a3-ed943a56bf5e",
   "metadata": {},
   "outputs": [
    {
     "name": "stdout",
     "output_type": "stream",
     "text": [
      "'y' for yes and 'n' for no\n"
     ]
    },
    {
     "data": {
      "text/plain": [
       "<function __main__.speak(something)>"
      ]
     },
     "execution_count": 11,
     "metadata": {},
     "output_type": "execute_result"
    }
   ],
   "source": [
    "# Setting up interests for morning news\n",
    "# online only\n",
    "speak(f\"{userCall}, do you want to stay updated for what's going on around the world.\")\n",
    "print(\"'y' for yes and 'n' for no\")\n",
    "responseNews = input()\n",
    "\n",
    "if responseNews.lower() == 'n' or responseNews.lower() == 'no':\n",
    "    speak(\"Alright! then I will proceed next.\")\n",
    "\n",
    "elif responseNews.lower() == 'y' or responseNews.lower() == 'yes':\n",
    "    speak(\"What topics of news are you interested in?\")\n",
    "    print(\"\"\"\n",
    "    Options are:\n",
    "    1. National\n",
    "    2. International\n",
    "    3. Entertainment\n",
    "    4. Education\n",
    "    5. Health\n",
    "    6. Sports\n",
    "    7. Business and Stocks\n",
    "    and much more...\n",
    "    \"\"\")\n",
    "    \n",
    "    responseNewsInput = input()\n",
    "\n",
    "    speak(\"I will provide with you with the headlines in the morning\")\n",
    "    \n",
    "    def wait_until(target_hour):\n",
    "        now = datetime.now()\n",
    "        target_time = now.replace(hour=target_hour, minute=0, second=0, microsecond=0)\n",
    "    \n",
    "        if target_time < now:\n",
    "            target_time += timedelta(days=1)\n",
    "\n",
    "        time_to_wait = (target_time - now).total_seconds()\n",
    "        print(f\"Waiting for {int(time_to_wait)} seconds until {target_time.strftime('%I:%M %p')}\")\n",
    "\n",
    "        time.sleep(time_to_wait)\n",
    "        next_program()\n",
    "\n",
    "    def next_program():\n",
    "        def read_news_in_morning():\n",
    "            if responseNewsInput:\n",
    "                articles = get_news(responseNewsInput)\n",
    "                if articles:\n",
    "                    read_news(articles)\n",
    "                else:\n",
    "                    speak(\"Sorry, I couldn't find any news on that topic.\")\n",
    "            else:\n",
    "                speak(\"Sorry, I didn't understand the topic.\")\n",
    "        read_news_in_morning()\n",
    "\n",
    "    def main():\n",
    "        while True:\n",
    "            try:\n",
    "                response_time = int(input(\"Enter the time (an integer between 6 and 12): \"))\n",
    "                if 6 <= response_time <= 12:\n",
    "                    break\n",
    "                else:\n",
    "                    print(\"Please enter a valid time between 6 and 12.\")\n",
    "            except ValueError:\n",
    "                print(\"Invalid input. Please enter an integer between 6 and 12.\")\n",
    "\n",
    "        print(f\"Time set to {response_time} AM\")\n",
    "        wait_until(response_time)\n",
    "\n",
    "    if __name__ == \"__main__\":\n",
    "        main()\n",
    "    \n",
    "\n",
    "    \n",
    "    \n",
    "    \n",
    "else:\n",
    "    speak(\"Sorry! I couldn't get that\")\n",
    "\n",
    "speak"
   ]
  },
  {
   "cell_type": "code",
   "execution_count": 12,
   "id": "f70a523e-2ed7-42bb-8f6c-f675ccafbc7d",
   "metadata": {},
   "outputs": [
    {
     "name": "stdout",
     "output_type": "stream",
     "text": [
      "Feel free to ask anything!\n"
     ]
    }
   ],
   "source": [
    "delay(1.5)\n",
    "speak(\"Great! Setup Finished\")\n",
    "print(\"Feel free to ask anything!\")"
   ]
  },
  {
   "cell_type": "code",
   "execution_count": null,
   "id": "c93363df-edbc-4b5c-840d-a1df464e97b6",
   "metadata": {},
   "outputs": [],
   "source": []
  },
  {
   "cell_type": "code",
   "execution_count": null,
   "id": "2f04f3cf-a475-476a-b6de-02bad0f6baec",
   "metadata": {},
   "outputs": [],
   "source": []
  },
  {
   "cell_type": "code",
   "execution_count": null,
   "id": "d76dfb67-e237-4653-8b65-40a7429a5a8b",
   "metadata": {},
   "outputs": [],
   "source": []
  }
 ],
 "metadata": {
  "kernelspec": {
   "display_name": "Python 3 (ipykernel)",
   "language": "python",
   "name": "python3"
  },
  "language_info": {
   "codemirror_mode": {
    "name": "ipython",
    "version": 3
   },
   "file_extension": ".py",
   "mimetype": "text/x-python",
   "name": "python",
   "nbconvert_exporter": "python",
   "pygments_lexer": "ipython3",
   "version": "3.12.3"
  }
 },
 "nbformat": 4,
 "nbformat_minor": 5
}
