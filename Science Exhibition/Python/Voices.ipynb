{
 "cells": [
  {
   "cell_type": "code",
   "execution_count": 3,
   "id": "4c8903ff-3600-4416-9224-31021fec1815",
   "metadata": {},
   "outputs": [],
   "source": [
    "import pyttsx3 as pt\n"
   ]
  },
  {
   "cell_type": "code",
   "execution_count": 4,
   "id": "97e63eab-ed5e-4ad3-9012-de5202c8f948",
   "metadata": {},
   "outputs": [],
   "source": [
    "def speak(text, voice_id):\n",
    "    engine = pt.init()\n",
    "    engine.setProperty('voice', voice_id)\n",
    "    engine.say(text)\n",
    "    engine.runAndWait()"
   ]
  },
  {
   "cell_type": "code",
   "execution_count": 5,
   "id": "d61471c5-79b1-478a-92d8-74d3890007a4",
   "metadata": {},
   "outputs": [],
   "source": [
    "def get_voice_id(gender):\n",
    "    engine = pt.init()\n",
    "    voices = engine.getProperty('voices')\n",
    "    \n",
    "    print(\"Available voices:\")\n",
    "    for voice in voices:\n",
    "        print(f\"ID: {voice.id}, Name: {voice.name}\")\n",
    "    \n",
    "    for voice in voices:\n",
    "        if gender == 'male' and 'david' in voice.name.lower():\n",
    "            return voice.id\n",
    "        elif gender == 'female' and 'zira' in voice.name.lower():\n",
    "            return voice.id\n",
    "    return None\n"
   ]
  },
  {
   "cell_type": "code",
   "execution_count": 6,
   "id": "588a3d7e-8aa5-454d-8d43-3f57b17670f5",
   "metadata": {},
   "outputs": [
    {
     "name": "stdin",
     "output_type": "stream",
     "text": [
      "Select voice: Enter 1 for male or 2 for female:  2\n"
     ]
    },
    {
     "name": "stdout",
     "output_type": "stream",
     "text": [
      "Available voices:\n",
      "ID: HKEY_LOCAL_MACHINE\\SOFTWARE\\Microsoft\\Speech\\Voices\\Tokens\\TTS_MS_EN-US_DAVID_11.0, Name: Microsoft David Desktop - English (United States)\n",
      "ID: HKEY_LOCAL_MACHINE\\SOFTWARE\\Microsoft\\Speech\\Voices\\Tokens\\TTS_MS_EN-US_ZIRA_11.0, Name: Microsoft Zira Desktop - English (United States)\n"
     ]
    }
   ],
   "source": [
    "responseVoiceSelection = input(\"Select voice: Enter 1 for male or 2 for female: \")\n",
    "\n",
    "if responseVoiceSelection == '1':\n",
    "    voice_id = get_voice_id('male')\n",
    "    if voice_id:\n",
    "        speak(\"You have selected the male voice.\", voice_id)\n",
    "    else:\n",
    "        print(\"Male voice not found.\")\n",
    "elif responseVoiceSelection == '2':\n",
    "    voice_id = get_voice_id('female')\n",
    "    if voice_id:\n",
    "        speak(\"You have selected the female voice.\", voice_id)\n",
    "    else:\n",
    "        print(\"Female voice not found.\")\n",
    "else:\n",
    "    print(\"Invalid selection. Please enter 1 or 2.\")"
   ]
  },
  {
   "cell_type": "code",
   "execution_count": null,
   "id": "85b1d3cd-176d-40f8-8797-df9b0fade3de",
   "metadata": {},
   "outputs": [],
   "source": []
  }
 ],
 "metadata": {
  "kernelspec": {
   "display_name": "Python 3 (ipykernel)",
   "language": "python",
   "name": "python3"
  },
  "language_info": {
   "codemirror_mode": {
    "name": "ipython",
    "version": 3
   },
   "file_extension": ".py",
   "mimetype": "text/x-python",
   "name": "python",
   "nbconvert_exporter": "python",
   "pygments_lexer": "ipython3",
   "version": "3.12.3"
  }
 },
 "nbformat": 4,
 "nbformat_minor": 5
}
