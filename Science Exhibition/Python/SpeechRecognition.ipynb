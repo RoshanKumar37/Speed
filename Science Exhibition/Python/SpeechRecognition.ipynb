{
 "cells": [
  {
   "cell_type": "code",
   "execution_count": 1,
   "id": "a0f1329a-0aee-447d-936e-d02a94d7d0e3",
   "metadata": {},
   "outputs": [],
   "source": [
    "import pyttsx3 as pt\n",
    "import speech_recognition as sr "
   ]
  },
  {
   "cell_type": "code",
   "execution_count": 2,
   "id": "aeea4c30-9158-4d1e-a02c-6fd7f6db8d12",
   "metadata": {},
   "outputs": [],
   "source": [
    "# Speak function initialization\n",
    "def speak(text):\n",
    "    engine = pt.init()\n",
    "    engine.say(text)\n",
    "    engine.runAndWait()"
   ]
  },
  {
   "cell_type": "code",
   "execution_count": 3,
   "id": "3fbeaaaf-1f88-4d05-bc96-c65d4e9c4a1f",
   "metadata": {},
   "outputs": [],
   "source": [
    "# pause function\n",
    "import time\n",
    "def delay(seconds):\n",
    "    time.sleep(seconds)"
   ]
  },
  {
   "cell_type": "code",
   "execution_count": 4,
   "id": "ae51d3cb-cc82-41db-ada4-48486bd2364a",
   "metadata": {},
   "outputs": [],
   "source": [
    "# set up\n",
    "speak(f\"Hello Sir\")\n",
    "speak(\"This is the setup of my program\")\n",
    "delay(2)\n",
    "speak(\"You must answer everything correctly in order to finish setup\")\n",
    "speak(\"So, let us get started\")"
   ]
  },
  {
   "cell_type": "code",
   "execution_count": 5,
   "id": "278047e4-de64-4c17-9014-e5e29b57bea7",
   "metadata": {},
   "outputs": [],
   "source": [
    "# Setting up Username and speech recognition setup\n",
    "def listen():\n",
    "    recognizer = sr.Recognizer()\n",
    "    with sr.Microphone() as source:\n",
    "        print(\"Listening...\")\n",
    "        recognizer.adjust_for_ambient_noise(source)\n",
    "        audio = recognizer.listen(source)\n",
    "\n",
    "    try:\n",
    "        print(\"Recognizing...\")\n",
    "        query = recognizer.recognize_sphinx(audio)\n",
    "        print(f\"You said: {query}\")\n",
    "        return query\n",
    "    except sr.UnknownValueError:\n",
    "        print(\"Sorry, I didn't get that.\")\n",
    "        return \"\"\n",
    "    except sr.RequestError:\n",
    "        print(\"Sorry, I'm having trouble accessing the Sphinx API.\")\n",
    "        return \"\"\n",
    "\n"
   ]
  },
  {
   "cell_type": "code",
   "execution_count": 6,
   "id": "05ac0f8f-52ad-42ad-a732-8823629bf66d",
   "metadata": {},
   "outputs": [
    {
     "ename": "OSError",
     "evalue": "No Default Input Device Available",
     "output_type": "error",
     "traceback": [
      "\u001b[1;31m---------------------------------------------------------------------------\u001b[0m",
      "\u001b[1;31mOSError\u001b[0m                                   Traceback (most recent call last)",
      "Cell \u001b[1;32mIn[6], line 2\u001b[0m\n\u001b[0;32m      1\u001b[0m speak(\u001b[38;5;124m\"\u001b[39m\u001b[38;5;124mWhat can I do for you?\u001b[39m\u001b[38;5;124m\"\u001b[39m)\n\u001b[1;32m----> 2\u001b[0m user_input \u001b[38;5;241m=\u001b[39m \u001b[43mlisten\u001b[49m\u001b[43m(\u001b[49m\u001b[43m)\u001b[49m\n\u001b[0;32m      3\u001b[0m \u001b[38;5;28mprint\u001b[39m(\u001b[38;5;124m\"\u001b[39m\u001b[38;5;124mYou said:\u001b[39m\u001b[38;5;124m\"\u001b[39m, user_input)\n",
      "Cell \u001b[1;32mIn[5], line 4\u001b[0m, in \u001b[0;36mlisten\u001b[1;34m()\u001b[0m\n\u001b[0;32m      2\u001b[0m \u001b[38;5;28;01mdef\u001b[39;00m \u001b[38;5;21mlisten\u001b[39m():\n\u001b[0;32m      3\u001b[0m     recognizer \u001b[38;5;241m=\u001b[39m sr\u001b[38;5;241m.\u001b[39mRecognizer()\n\u001b[1;32m----> 4\u001b[0m     \u001b[38;5;28;01mwith\u001b[39;00m \u001b[43msr\u001b[49m\u001b[38;5;241;43m.\u001b[39;49m\u001b[43mMicrophone\u001b[49m\u001b[43m(\u001b[49m\u001b[43m)\u001b[49m \u001b[38;5;28;01mas\u001b[39;00m source:\n\u001b[0;32m      5\u001b[0m         \u001b[38;5;28mprint\u001b[39m(\u001b[38;5;124m\"\u001b[39m\u001b[38;5;124mListening...\u001b[39m\u001b[38;5;124m\"\u001b[39m)\n\u001b[0;32m      6\u001b[0m         recognizer\u001b[38;5;241m.\u001b[39madjust_for_ambient_noise(source)\n",
      "File \u001b[1;32mD:\\Python\\Lib\\site-packages\\speech_recognition\\__init__.py:87\u001b[0m, in \u001b[0;36mMicrophone.__init__\u001b[1;34m(self, device_index, sample_rate, chunk_size)\u001b[0m\n\u001b[0;32m     85\u001b[0m     \u001b[38;5;28;01massert\u001b[39;00m \u001b[38;5;241m0\u001b[39m \u001b[38;5;241m<\u001b[39m\u001b[38;5;241m=\u001b[39m device_index \u001b[38;5;241m<\u001b[39m count, \u001b[38;5;124m\"\u001b[39m\u001b[38;5;124mDevice index out of range (\u001b[39m\u001b[38;5;132;01m{}\u001b[39;00m\u001b[38;5;124m devices available; device index should be between 0 and \u001b[39m\u001b[38;5;132;01m{}\u001b[39;00m\u001b[38;5;124m inclusive)\u001b[39m\u001b[38;5;124m\"\u001b[39m\u001b[38;5;241m.\u001b[39mformat(count, count \u001b[38;5;241m-\u001b[39m \u001b[38;5;241m1\u001b[39m)\n\u001b[0;32m     86\u001b[0m \u001b[38;5;28;01mif\u001b[39;00m sample_rate \u001b[38;5;129;01mis\u001b[39;00m \u001b[38;5;28;01mNone\u001b[39;00m:  \u001b[38;5;66;03m# automatically set the sample rate to the hardware's default sample rate if not specified\u001b[39;00m\n\u001b[1;32m---> 87\u001b[0m     device_info \u001b[38;5;241m=\u001b[39m audio\u001b[38;5;241m.\u001b[39mget_device_info_by_index(device_index) \u001b[38;5;28;01mif\u001b[39;00m device_index \u001b[38;5;129;01mis\u001b[39;00m \u001b[38;5;129;01mnot\u001b[39;00m \u001b[38;5;28;01mNone\u001b[39;00m \u001b[38;5;28;01melse\u001b[39;00m \u001b[43maudio\u001b[49m\u001b[38;5;241;43m.\u001b[39;49m\u001b[43mget_default_input_device_info\u001b[49m\u001b[43m(\u001b[49m\u001b[43m)\u001b[49m\n\u001b[0;32m     88\u001b[0m     \u001b[38;5;28;01massert\u001b[39;00m \u001b[38;5;28misinstance\u001b[39m(device_info\u001b[38;5;241m.\u001b[39mget(\u001b[38;5;124m\"\u001b[39m\u001b[38;5;124mdefaultSampleRate\u001b[39m\u001b[38;5;124m\"\u001b[39m), (\u001b[38;5;28mfloat\u001b[39m, \u001b[38;5;28mint\u001b[39m)) \u001b[38;5;129;01mand\u001b[39;00m device_info[\u001b[38;5;124m\"\u001b[39m\u001b[38;5;124mdefaultSampleRate\u001b[39m\u001b[38;5;124m\"\u001b[39m] \u001b[38;5;241m>\u001b[39m \u001b[38;5;241m0\u001b[39m, \u001b[38;5;124m\"\u001b[39m\u001b[38;5;124mInvalid device info returned from PyAudio: \u001b[39m\u001b[38;5;132;01m{}\u001b[39;00m\u001b[38;5;124m\"\u001b[39m\u001b[38;5;241m.\u001b[39mformat(device_info)\n\u001b[0;32m     89\u001b[0m     sample_rate \u001b[38;5;241m=\u001b[39m \u001b[38;5;28mint\u001b[39m(device_info[\u001b[38;5;124m\"\u001b[39m\u001b[38;5;124mdefaultSampleRate\u001b[39m\u001b[38;5;124m\"\u001b[39m])\n",
      "File \u001b[1;32mD:\\Python\\Lib\\site-packages\\pyaudio\\__init__.py:812\u001b[0m, in \u001b[0;36mPyAudio.get_default_input_device_info\u001b[1;34m(self)\u001b[0m\n\u001b[0;32m    803\u001b[0m \u001b[38;5;28;01mdef\u001b[39;00m \u001b[38;5;21mget_default_input_device_info\u001b[39m(\u001b[38;5;28mself\u001b[39m):\n\u001b[0;32m    804\u001b[0m \u001b[38;5;250m    \u001b[39m\u001b[38;5;124;03m\"\"\"Returns the default input device parameters as a dictionary.\u001b[39;00m\n\u001b[0;32m    805\u001b[0m \n\u001b[0;32m    806\u001b[0m \u001b[38;5;124;03m    The keys of the dictionary mirror the data fields of PortAudio's\u001b[39;00m\n\u001b[1;32m   (...)\u001b[0m\n\u001b[0;32m    810\u001b[0m \u001b[38;5;124;03m    :rtype: dict\u001b[39;00m\n\u001b[0;32m    811\u001b[0m \u001b[38;5;124;03m    \"\"\"\u001b[39;00m\n\u001b[1;32m--> 812\u001b[0m     device_index \u001b[38;5;241m=\u001b[39m \u001b[43mpa\u001b[49m\u001b[38;5;241;43m.\u001b[39;49m\u001b[43mget_default_input_device\u001b[49m\u001b[43m(\u001b[49m\u001b[43m)\u001b[49m\n\u001b[0;32m    813\u001b[0m     \u001b[38;5;28;01mreturn\u001b[39;00m \u001b[38;5;28mself\u001b[39m\u001b[38;5;241m.\u001b[39mget_device_info_by_index(device_index)\n",
      "\u001b[1;31mOSError\u001b[0m: No Default Input Device Available"
     ]
    }
   ],
   "source": [
    "speak(\"What can I do for you?\")\n",
    "user_input = listen()\n",
    "print(\"You said:\", user_input)"
   ]
  },
  {
   "cell_type": "code",
   "execution_count": null,
   "id": "6fc37f59-8303-4ac8-98a3-ed943a56bf5e",
   "metadata": {},
   "outputs": [],
   "source": [
    "engine.runAndWait()"
   ]
  },
  {
   "cell_type": "code",
   "execution_count": null,
   "id": "f70a523e-2ed7-42bb-8f6c-f675ccafbc7d",
   "metadata": {},
   "outputs": [],
   "source": []
  }
 ],
 "metadata": {
  "kernelspec": {
   "display_name": "Python 3 (ipykernel)",
   "language": "python",
   "name": "python3"
  },
  "language_info": {
   "codemirror_mode": {
    "name": "ipython",
    "version": 3
   },
   "file_extension": ".py",
   "mimetype": "text/x-python",
   "name": "python",
   "nbconvert_exporter": "python",
   "pygments_lexer": "ipython3",
   "version": "3.12.3"
  }
 },
 "nbformat": 4,
 "nbformat_minor": 5
}
